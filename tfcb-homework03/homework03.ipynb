{
 "cells": [
  {
   "cell_type": "markdown",
   "metadata": {},
   "source": [
    "# Homework03 (10 points): The genetic code as a python `dict`\n",
    "\n",
    "Any code that's already here in the notebook or in the lectures is fair game. I've provided outline code for some of the problems; you are welcome to use that but you don't have to. There are also some hints/examples at the very end of this notebook.\n",
    "\n",
    "Please post questions to the tfcb_2022 slack channel. Phil is also available via email (pbradley@fredhutch.org), and he loves answering Python questions.\n",
    "Seriously. Don't hesitate to reach out if you are feeling stuck. Direct messaging\n",
    "him in slack also works great."
   ]
  },
  {
   "cell_type": "markdown",
   "metadata": {},
   "source": [
    "Here's a python dictionary that stores the genetic code mapping. The keys are codons and the values are the amino acids that those codons code for. '*' represents STOP."
   ]
  },
  {
   "cell_type": "code",
   "execution_count": 7,
   "metadata": {},
   "outputs": [],
   "source": [
    "genetic_code = {\n",
    "    'AAA': 'K', 'AAC': 'N', 'AAG': 'K', 'AAT': 'N', \n",
    "    'ACA': 'T', 'ACC': 'T', 'ACG': 'T', 'ACT': 'T', \n",
    "    'AGA': 'R', 'AGC': 'S', 'AGG': 'R', 'AGT': 'S', \n",
    "    'ATA': 'I', 'ATC': 'I', 'ATG': 'M', 'ATT': 'I', \n",
    "    'CAA': 'Q', 'CAC': 'H', 'CAG': 'Q', 'CAT': 'H', \n",
    "    'CCA': 'P', 'CCC': 'P', 'CCG': 'P', 'CCT': 'P', \n",
    "    'CGA': 'R', 'CGC': 'R', 'CGG': 'R', 'CGT': 'R', \n",
    "    'CTA': 'L', 'CTC': 'L', 'CTG': 'L', 'CTT': 'L', \n",
    "    'GAA': 'E', 'GAC': 'D', 'GAG': 'E', 'GAT': 'D', \n",
    "    'GCA': 'A', 'GCC': 'A', 'GCG': 'A', 'GCT': 'A', \n",
    "    'GGA': 'G', 'GGC': 'G', 'GGG': 'G', 'GGT': 'G', \n",
    "    'GTA': 'V', 'GTC': 'V', 'GTG': 'V', 'GTT': 'V', \n",
    "    'TAA': '*', 'TAC': 'Y', 'TAG': '*', 'TAT': 'Y', \n",
    "    'TCA': 'S', 'TCC': 'S', 'TCG': 'S', 'TCT': 'S', \n",
    "    'TGA': '*', 'TGC': 'C', 'TGG': 'W', 'TGT': 'C', \n",
    "    'TTA': 'L', 'TTC': 'F', 'TTG': 'L', 'TTT': 'F'\n",
    "}\n"
   ]
  },
  {
   "cell_type": "markdown",
   "metadata": {},
   "source": [
    "# Q1 (1 point). What does `TGC` code for?\n",
    "\n",
    "Create a string called codon that is equal to `'TGC'` and use the genetic_code dictionary to look up its translation.\n",
    "\n",
    "Recall that you look up a value in a dictionary using the syntax\n",
    "`dictionary[key]`, where `dictionary` is the name of the dictionary and `key` is the name of the key."
   ]
  },
  {
   "cell_type": "code",
   "execution_count": 3,
   "metadata": {},
   "outputs": [
    {
     "name": "stdout",
     "output_type": "stream",
     "text": [
      "hello\n"
     ]
    }
   ],
   "source": [
    "# what does TGC code for?\n",
    "codon = 'TGC'"
   ]
  },
  {
   "cell_type": "markdown",
   "metadata": {},
   "source": [
    "# Q2 (1 point). How many codons code for leucine ('L')?\n",
    "Do this by looping through the keys (ie, codons) in the `genetic_code` dictionary and counting how many code for leucine."
   ]
  },
  {
   "cell_type": "code",
   "execution_count": 8,
   "metadata": {},
   "outputs": [
    {
     "name": "stdout",
     "output_type": "stream",
     "text": [
      "6\n"
     ]
    }
   ],
   "source": [
    "# initialize the count to 0\n",
    "num_leucine_codons = 0\n",
    "\n",
    "# for-loops over dictionaries give us the keys (ie, codons)\n",
    "for codon in genetic_code:\n",
    "    if genetic_code[codon] == 'L':\n",
    "        # add 1 to the num_leucine_codons variable\n",
    "        num_leucine_codons =  num_leucine_codons + 1\n",
    "\n",
    "print(num_leucine_codons)"
   ]
  },
  {
   "cell_type": "markdown",
   "metadata": {},
   "source": [
    "# Q3 (2 points). How many codons code for each amino acid?\n",
    "\n",
    "Do this with a `for` loop over the amino acids (plus stop aka `'*'`), inside of which you figure out how many codons code for that amino acid and print out the amino acid and the number of codons. You should get an output like this:\n",
    "\n",
    "```\n",
    "* 3\n",
    "A 4\n",
    "C 2\n",
    "D 2\n",
    "```\n",
    "etc."
   ]
  },
  {
   "cell_type": "markdown",
   "metadata": {},
   "source": [
    "We need a list of all the amino acids (plus the stop codon). You could hard code those, with something like:\n",
    "```python\n",
    "amino_acids_plus_stop = ['*','A','C','D'] # etc\n",
    "```\n",
    "But it's easier to build the list directly from the dictionary. For starters, here's how you get all the values in a dictionary:"
   ]
  },
  {
   "cell_type": "code",
   "execution_count": 10,
   "metadata": {},
   "outputs": [
    {
     "data": {
      "text/plain": [
       "dict_values(['K', 'N', 'K', 'N', 'T', 'T', 'T', 'T', 'R', 'S', 'R', 'S', 'I', 'I', 'M', 'I', 'Q', 'H', 'Q', 'H', 'P', 'P', 'P', 'P', 'R', 'R', 'R', 'R', 'L', 'L', 'L', 'L', 'E', 'D', 'E', 'D', 'A', 'A', 'A', 'A', 'G', 'G', 'G', 'G', 'V', 'V', 'V', 'V', '*', 'Y', '*', 'Y', 'S', 'S', 'S', 'S', '*', 'C', 'W', 'C', 'L', 'F', 'L', 'F'])"
      ]
     },
     "execution_count": 10,
     "metadata": {},
     "output_type": "execute_result"
    }
   ],
   "source": [
    "genetic_code.values()"
   ]
  },
  {
   "cell_type": "markdown",
   "metadata": {},
   "source": [
    "That list-like thing contains all the amino acids, but there are duplicates, and they aren't in sorted order. An easy way to eliminate duplicates in python is to turn the list into a `set`, which is another built-in type that stores unique items. (`set`s are optimized for fast membership checking and operations like intersection and unions, but that's not relevant for this HW.)"
   ]
  },
  {
   "cell_type": "code",
   "execution_count": 29,
   "metadata": {},
   "outputs": [
    {
     "name": "stdout",
     "output_type": "stream",
     "text": [
      "['*', 'A', 'C', 'D', 'E', 'F', 'G', 'H', 'I', 'K', 'L', 'M', 'N', 'P', 'Q', 'R', 'S', 'T', 'V', 'W', 'Y']\n"
     ]
    }
   ],
   "source": [
    "# set is another builtin python type, like list or dict. It's a nice way of removing duplicates.\n",
    "# Here we build a set from all the values (amino acids) in the genetic code dictionary.\n",
    "# Then we use the \"sorted\" built-in python function to turn the set into a sorted\n",
    "# list.\n",
    "amino_acids_plus_stop = sorted(set(genetic_code.values()))\n",
    "print(amino_acids_plus_stop)"
   ]
  },
  {
   "cell_type": "markdown",
   "metadata": {},
   "source": [
    "Now the idea is to loop over this list of amino acids and count, for each one, how many codons code for it. For that you could use your solution to Question 2.  "
   ]
  },
  {
   "cell_type": "code",
   "execution_count": 41,
   "metadata": {},
   "outputs": [
    {
     "name": "stdout",
     "output_type": "stream",
     "text": [
      "['*', 'A', 'C', 'D', 'E', 'F', 'G', 'H', 'I', 'K', 'L', 'M', 'N', 'P', 'Q', 'R', 'S', 'T', 'V', 'W', 'Y']\n",
      "* 3\n",
      "A 4\n",
      "C 2\n",
      "D 2\n",
      "E 2\n",
      "F 2\n",
      "G 4\n",
      "H 2\n",
      "I 3\n",
      "K 2\n",
      "L 6\n",
      "M 1\n",
      "N 2\n",
      "P 4\n",
      "Q 2\n",
      "R 6\n",
      "S 6\n",
      "T 4\n",
      "V 4\n",
      "W 1\n",
      "Y 2\n"
     ]
    }
   ],
   "source": [
    "print(amino_acids_plus_stop)\n",
    "# how many codons for each amino acid?\n",
    "for aa in amino_acids_plus_stop:\n",
    "    count = 0\n",
    "    for codon in genetic_code:\n",
    "        if genetic_code[codon] == aa:\n",
    "        # do something inside here...\n",
    "            count = count + 1\n",
    "\n",
    "    # now finally write out the answer\n",
    "    print(aa, count)"
   ]
  },
  {
   "cell_type": "markdown",
   "metadata": {},
   "source": [
    "# Q4 (3 points). Write a translation function that takes in a DNA sequence and returns a protein sequence.\n",
    "\n",
    "Extra nucleotides at the end should be ignored.\n",
    "\n",
    "Use it to translate the sequence `CCTCATATTTTGTGAATTTCTTGAGCTTGAGGTCGTGAGGCTACTTGAACTGAGGCTTGTCATGAGCGTT`\n",
    "\n",
    "If you are so inclined, see how short you can make your function. Can you do it in one line? See the examples at the end of this notebook if you are unsure of the syntax for defining functions and for hints on translating."
   ]
  },
  {
   "cell_type": "code",
   "execution_count": 197,
   "metadata": {},
   "outputs": [
    {
     "data": {
      "text/plain": [
       "'PLSHIYIFFLCV*ENIFFSLL*E'"
      ]
     },
     "execution_count": 197,
     "metadata": {},
     "output_type": "execute_result"
    }
   ],
   "source": [
    "# translation function\n",
    "def translate(dna_seq,frame=1):\n",
    "    # here's how we count the number of complete codons.\n",
    "    num_codons = len(dna_seq)//3\n",
    "    # start with an empty string\n",
    "    translation = ''\n",
    "    # now build up the translation one amino acid at a time...\n",
    "    for current_codon in range(0, num_codons):\n",
    "        translation = translation + genetic_code[dna_seq[current_codon+frame-1:current_codon+3+frame-1]]\n",
    "    return translation\n",
    "    \n",
    "translate('CCTCATATTTTGTGAATTTCTTGAGCTTGAGGTCGTGAGGCTACTTGAACTGAGGCTTGTCATGAGCGTT')"
   ]
  },
  {
   "cell_type": "markdown",
   "metadata": {},
   "source": [
    "# Q5 (3 points). Translate a SARS COV2 genome sequence; what is the longest open reading frame?\n",
    "\n",
    "Here by open reading frame I just mean a stretch of codons that doesn't contain any stop codons.\n",
    "\n",
    "You can answer either in terms of the length of the reading frame at the nucleotide or protein level, just be clear."
   ]
  },
  {
   "cell_type": "markdown",
   "metadata": {},
   "source": [
    "This little snippet will read the SARS COV2 genome DNA sequence into the string called `genome`:"
   ]
  },
  {
   "cell_type": "code",
   "execution_count": 99,
   "metadata": {},
   "outputs": [
    {
     "name": "stdout",
     "output_type": "stream",
     "text": [
      "29903\n"
     ]
    }
   ],
   "source": [
    "# \n",
    "filename = 'data/sars_cov2_genome_sequence.txt'\n",
    "# lines is a list of strings, one containing each line of the file\n",
    "lines = open(filename,'r').readlines()\n",
    "# the first line is a header, get rid of that one using list slicing (ie, lines[1:])\n",
    "# then join them together using the string join method (ie, ''.join(...))\n",
    "# each line ends with a newline character, remove those with the string replace method\n",
    "# see how we can do lots of things in one line (first slicing, then joining, then replacing):\n",
    "# can you see why they happen in that order?\n",
    "genome = ''.join(lines[1:]).replace('\\n','')\n",
    "print(len(genome))"
   ]
  },
  {
   "cell_type": "markdown",
   "metadata": {},
   "source": [
    "Now translate genome into a protein sequence using the `translate` function from the previous question."
   ]
  },
  {
   "cell_type": "code",
   "execution_count": 135,
   "metadata": {},
   "outputs": [
    {
     "name": "stdout",
     "output_type": "stream",
     "text": [
      "['L', 'KKRGVFLYIYTPLFSPPQRGV', 'NTQKNTPQNTPQNTLFFSRDISLSLLCV', 'RDISLCVFSLSL', 'KNTRENTLFL', 'KKNISLCVCVWGALCVSHTLSRGALCAHMCALL', 'SVCAHTLSHTRAQSVYI', 'NIL', 'NI', 'NTL', 'NILYTLCVSRVL', 'DTQRGDTHTRESV', 'NTLSRVSLYISLFSLCAQRGALCALLYTRGVFFSRVSPRVCVLCAQSAPRDISHISQSAHTHISL', 'RGVFFSRVSPRGGVCV', 'DTPREKKRGV', 'KRDMWGERESAPLLCVSPPLWGVFFSQNTREREKKNTHTHTRVSPQNTLSQSVFLCAPLCVFFLYTQRGVFSRARDTRVCALSRVYTRVWGALFLWGERDTLSPRVWGERGERGVSLLYISQRERGAHTRVSQNTHISLL', 'KKRDMWGAHTLLCVWGALL', 'SV', 'REKSVL', 'EKKKKRGARVFFLCAPLSQNTLL', 'ENTQSAPPLYMCVCVFSHISQKNTRVFSRGDMCALSRENTLCAHTPLSHMWGVSHMCVLYMWGVL', 'ESALWGV', 'SAQRENTLSREKRGAHIFSQSVYTRGVSRV', 'SVWGV', 'ERDTHTLLWGVCVSPLLCVSPPLSHMCVWGGAREKNIYTPQSVWGALLYTPRAQKRGVFSLFSLFSRV', 'KRENTRGV', 'NI', 'KKRGESALWGVWGAPHI', 'SVLYTRGARAPRDISL', 'KKSVSHIFL', 'DTLL', 'RGARDTRESALLWGAHTL', 'DISPLLYM', 'EKRDIFFFSQKREKKNTLWGENTHTL', 'KNTHI', 'SAQSVWGVCVLYTPPRV', 'ENTLSHMCARV', 'ESALL', 'NTRGERGGGAHIYTHTLSRALYMCVSRDI', 'NTQNTLFSLCVWGAPPL', 'DMWGALYTPPLSLL', 'ESVCAHIL', 'KKRDTPLFSL', 'SAHTRVCALWGV', 'KKSALFSHMCAHTLFLCVSPRENTQNTLWGDTLFLYIL', 'DTHTL', 'KRERGGGVCVYIYTLCALCAPRV', 'ENTHM', 'ESAHM', 'EKNILCALLWGVYTHTRGENTRVFSL', 'EKKKRESALYM', 'ENILCAQRDTHTPLFFL', 'EKNIL', 'KNILWGAQKKREKNIFL', 'DTHTPLFSQNMWGGGENMCVSPQKNIFFLCVYIFFSPPLL', 'KNIFSPHI', 'NISQKRDTLYIFSQNTPQKRGGVL', 'EKKKREKKKKSALL', 'DMWGALFLYMWGGV', 'RENIFSRDISLCVSLYISPQSVLCARVSHTPQKNM', 'ENMCAQNTPQKNMCVCAPLFFSQNTLSLSHM', 'EKSVCV', 'DISHILCVWGV', 'EKNTLFSHMWGAQRDTRGGARDIFFLCVL', 'KKSAPHTLLCARENIFFLCVWGAHTL', 'ERENIFL', 'DTL', 'KKREKRGVCAPHTLYTLLCVWGVLYTLLYTPPPQKKNMCALCVLCVL', 'KKNIFLYILCVSPQSAHMCVSHTQNIFSQREKSV', 'RGDTPL', 'ESAHI', 'SVSLLCAPRENIYTPHI', 'NM', 'ENISLWGALL', 'EKKNTPHIFSLFSRV', 'KRGGVWGVSRAHTLYILCAPLFLWGERGALCVCVCVFSLSLLYMCVLWGVLCAPHI', 'NTQKSVCVCAPLYILWGGVFSPHTRVCAL', 'SARAL', 'NTHI', 'RGVLCV', 'NTPHIYTQRGVCVLCVLWGEREKRGVFSPREKRGVSLL', 'NM', 'DTQNTPLFSLL', 'EKNIYTLSPQKKKKREREKKSVSQNTHISQNIYILCVLWGV', 'DTLFL', 'KNTLL', 'NM', 'EKRERDISRAPHILYIFFLWGAHISLFFFFSLCALFSPHTQKSVCALFFLCVWGEKNTLCV', 'EKKRGVFLWGDILYI', 'KKSAHIFSQKNTQKNILCVL', 'ENISPLCVWGV', 'NIFFL', 'KKSVLYTQKKKRGEKKKSAL', 'KKKKKRGVCAPLWGENIYILWGV', 'ENTQREKNISQNIYTL', 'ESVSPLSLFLYMCAHIFLCAHISQRERGALCALSRVCVLCVYTRDISQNIFFFSLSPPRAHTLSLL', 'EKNTLCALSQKKNIFSLCVCARVCVFFLYTQREKRGAPRALYI', 'NTQNIYTL', 'RDMWGENIFFSHTQSVYIFSHTL', 'ERDTLSHIL', 'DMCALYM', 'DMCVFSHTHISL', 'DIFLWGALYTL', 'NTQNISL', 'SVLCV', 'NMWGAPLYTHILYTQRGVWGVCVLCVFSQSVL', 'DTLFSRAQSVWGAL', 'NTL', 'NTHISLFLWGAHTLCVFLYM', 'EKKKNTLSQKNTPPRVSPLL', 'DILWGALL', 'EKREREKSVFL', 'KRGEKRGVCV', 'RESVFFSLL', 'RERDTRGVLWGGEKNILCVL', 'KNIFLYISLSQNTPLCVCALLCV', 'EKNILCVSRGVWGDTQKNILCVSHTPLCVCAQKKRGEKNIL', 'KRGERESVCVFSQRDTHIFSLFL', 'KSALLCV', 'KNI', 'KNIFFFLWGALFLCVCVCAL', 'DTLSLYISHILYILWGVWGESAL', 'KNTLL', 'KKSAPLL', 'ENIFL', 'RGV', 'EKNTHIFLCVSHTRAHTLSQKKRGGDILCVYTQREKKSVCVCVL', 'KNISPQREREKREKNTLWGAPLYTLSHMCAPLSL', 'KKKSAPPPQKKKREKNILYISLFSLL', 'RERGGEREKNTHTLFSPPHTQREKSVCVL', 'NTQRERGEKSVLCVSLL', 'EKKNTLWGV', 'DIFLYTQNTPHIL', 'RENTQNTPLYTL', 'SV', 'EKSALCVL', 'EKSALSPHILWGVLWGVYTHTPQSVFLCVYIL', 'NTRGGALLYMCVLCALSREKNISQKKRDTHTQREKKKSVYTLCVCAPPLLCAHTPL', 'NIYM', 'DMWGV', 'NTQKNTQNIYTPLFSHTHTLSQKKRGARGVCAHTPQNTQKKRGVLYTLFFLWGV', 'DM', 'DTHTLCV', 'DI', 'REKSVCAQKRGVLYTQKRESVCV', 'ENIYISHTLFFL', 'ENTLL', 'DM', 'EKKRGDIL', 'DI', 'KKSVYTLL', 'NM', 'EREKSVCALSLCAPLYIYTQSVL', 'ENTLSRGVYTQREKSV', 'KNM', 'ESVFSRAPLCVCVLCVWGAQRDMCALCVSHI', 'KKKNTLFLCAQNTPQSVYISL', 'ENILYTLLYTHTPHTLWGGAHIL', 'DIFL', 'RDM', 'ESVWGESVYMWGALYTHIYTLYTLLYIFL', 'DM', 'ESVSLWGV', 'ESVFL', 'KNILWGALFSHTHIYMCVYILCVFSLFFSLYTPPLSPQRDM', 'ERGDM', 'EKREKREKRGV', 'DILCV', 'EKREKREKRESVFL', 'ESAPHISQNTLSQNIYM', 'ESVYMWGVYTL', 'EKRDM', 'DILYTPQKRGV', 'KNTPLFLWGENIFLWGVCAPHTLFSLCALCALSLFSQNTPL', 'EKREKRESAQKREKREKRDILWGVL', 'RDM', 'DM', 'DI', 'SVSQNTQKNTLCVLWGVSQNTQKRDTRGAQSV', 'ERGDTQNISQRDTQNTLYTLYIFSQKNTQNILCVL', 'ERGVFSQNTPLSQNIL', 'RERDMWGENTLLYTHTPQSVLCVFSQRDTLYIL', 'EKSV', 'ENI', 'SVFFL', 'SVWGVLYIFL', 'KKNTLLYTL', 'DTQNMCVYIYTHIL', 'KKKNMCAQRDTHILCVWGEKREKSAL', 'KKKKRGV', 'KKNTPQNTQSVWGVLCVL', 'NMCAQSAPQNMCVFLYTPLL', 'KNTHMWGERGERGVCVLCAQRGESAPLL', 'KNI', 'KRGALYTL', 'NTQNMCAPHMCAQKSVL', 'ENISL', 'DM', 'DILYTHI', 'SALYTL', 'NMWGDTPHTLL', 'KKSVWGGVWGV', 'SVLCVCVFFL', 'KSARGDTHTQNISLLCAL', 'KNTHTLCVSLFSHMCVLCVSRGAPPQKNMCVL', 'NTQKKRGV', 'EKRDTHIFSQNTLFSLL', 'KRESVCALLYM', 'EKKNIFFL', 'NISQSAHTREKSVFSLYTLLCAHTPHILYILYISQSALWGVYIFFFLWGVCAL', 'DTPPLYIYTHIFSLFL', 'KRESVFLCVCV', 'RDIYTLCVFSRAHTQKNMCVSLYTLL', 'SALCVSLFL', 'DI', 'KKKNISLSLYM', 'DTQKNTLLCVFFSQKSALFFFLWGEKNM', 'EKRESV', 'EKKKSAQKSVL', 'ENTQKKKRDISRAL', 'ERDIFSPL', 'KKRERGEKSVL', 'KSAPHIFLYI', 'NTL', 'EKKSV', 'KNTPLFSQSVL', 'ENTQREREKKNTQKRDM', 'DI', 'KREKKNISQKKSALLCVCVL', 'EKREKSVLYTQNTQNTLSLWGEKREKNTL', 'KSVFSPLSHTQREKKNTLLCVLYTLFLYIYIL', 'DTHIL', 'NMWGAQNISLFSHISPQRDIFSLCAPHTLSLLCVL', 'SV', 'DTHIL', 'DTHISHTLFFSLL', 'KKREKKRDMCALSPHIYIYI', 'SVWGGV', 'DMCVLCVFSQKRERGGVCVFFL', 'NTLCALCVWGVLYIYTPLYTL', 'KKKKRGALWGVWGAHTLYTL', 'EKNMCAL', 'SAREKKSALFL', 'EREKKKSVCAPQNTQRDTQNILYIYI', 'NTPHTLLYTPPRGGVSQRGGVFL', 'KNMWGVLYTHTLCV', 'RERGERGAQKKRDTQSVCALL', 'KKKKSVCV', 'KKKSVCAPLFFLYTHIFSLYTPHISLYILYISLSL', 'NM', 'EREKSAQKREKNIFSLLWGENTLCVFFSLLWGENIFLCAREREKNMCALLCAHTHMCAQREKREKNTHTRAQKNIL', 'NMCAPLCVSLCVCVWGEKNTL', 'KKSAPHI', 'SVFFSQNTLYIYTQSARV', 'KNIYI', 'KRGGVYIL', 'KKNIYTQKRERGGVCVWGVL', 'DILYMWGVCAL', 'RDIFFLYTLFFLYTHTPQSV', 'KKNTQNTLCV', 'SARVSHTLLYISQNTHTHTLL', 'NTRDISL', 'KNM', 'EKNTLSLLCVLYTQNMCAPHTLLWGALYMCV', 'NTHTHMWGALL', 'KNIFLWGEKREKSALCALSRGVYIYM', 'ERDISLSLSQKKSVCAPQSALYTQSVFFSLCVFFSLFSHTPL', 'DMCALCVLYTQSARVYI', 'NMWGVLYISLLYTLFSLFSLFSL', 'KKNTHTPL', 'EKRENTHIFFLYIL', 'EKNTPHISLSHTLLCALWGVFSPLYI', 'KKRDILWGVSPLYIFSLWGDTQNISLYTHTQNTL', 'RGVYI', 'RENIFFSLL', 'KRERERGV', 'DI', 'KKKSVCVYIYILYTHTL', 'SV', 'NISPLYTPHTHIFSPHTPL', 'RDMWGV', 'EKSVLYISHTPLFL', 'DTQNISLL', 'KRDTHTLFSLFFSLFL', 'EREREKSV', 'ERGDTLYIL', 'KRGVCVFLYTQNTQSV', 'RDTQNTHIL', 'NTPLSPHTHTRAQKSVLCVWGDTHMCVSQNM', 'DTHIYMWGDTQNTQSVFLWGVSPQNTLLYIFLWGDMWGESAL', 'DMCVLYTL', 'KKNI', 'KKNTPLSHI', 'NIFSHTHM', 'EKRGV', 'KKNTHIFFLYMCVFFLYTPL', 'NM', 'DM', 'DTHTLSLYTRVCVL', 'ERGALFFL', 'ESVYTLYTPHTHTQNTL', 'DISPL', 'SVFFFSLWGGV', 'RGVYTHMCVSQSAHIL', 'KNISHTHTL', 'KKKKSVWGEKNIYTPPHTQKSVL', 'NMWGVFL', 'NTLFSLYIL', 'KNMWGGAQRDI', 'NTQNTLCVLYISLLCAPHTLCAHILCVL', 'NTHTLSPQNTQKNI', 'RESVL', 'EKSVFL', 'NISPHTPLCALSLYTQKRDMCALLYILYTQRESAQKRGGALWGV', 'EKSALCAL', 'NTLFFLCVCAHTLLYISLL', 'SAPLYTLCV', 'NI', 'KRDTQSV', 'RGV', 'ESVL', 'RGV', 'DMCVL', 'REREKNTQNM', 'ESVLYTLLCVFFSQNTHMCAPQNIFL', 'RDIFSLLCAQKKKRESVSLL', 'ENTRVWGVCVCV', 'KKNTLLCVWGDTQNTQSAQRDTQNTPPLL', 'KRGGVCV', 'REKSALCVLYMCVYTHMWGGAHTHTLFFSLLYM', 'ENTQNIFL', 'KREKKRGVCVFSQRDIYTPLLCVYTRVCVWGV', 'KNTQKSALYTQKKNIYISL', 'SVYTQNTQRGESVSHTPLFFLCVLYM', 'DMCVSQSAHTPHTPLCALSQSVYM', 'ENTLL', 'KSAHMWGVYTHIFLYTLLCVCAL', 'SV', 'ESVYTHTLWGV', 'NILYTPQSVCVWGVSHTLYI', 'KNTHIYI', 'NTLFSL', 'KKREKNTLFLCVYILCAHI', 'RDTRGVCALFLYTLLYTQKKSVSPLSQRENIYTQKKRGVSPLYILYTRGDMCVFFFSLYTQKKREKKNTQSVLYTHTQNTQNTPHI', 'KKNTPQSVLYTLLYI', 'KNILWGDMWGVCVLCVFLCVYTQREKNIL', 'DTPPL', 'KSVLWGDTQNILYILYI', 'KREKKRDTQNIFSLLYIFFSHTQRESAQNTPQNIL', 'DISLLCVYTPQKNTPQNTPHIYISPQKNTRAQKSALFSRDI', 'NIFFL', 'KSVFLCVYMCV', 'DI', 'NIYISQKNIFLCAL', 'DM', 'DIFL', 'KNTPQSVL', 'NTLWGVLYI', 'KREKNTPLCALFSQKRERESALL', 'KKSVLYTHIFFFFSPPL', 'DTLL', 'KNMWGV', 'DMCVWGVWGALYIL', 'DILYI', 'KNTHTLYTHTHTPPLSLFFL', 'KREKKRGESAL', 'KNILCVLYTHI', 'KNTPLYILCVFLWGAHMCVL', 'NTQNMCAQNTL', 'NI', 'KKSAPHTRVYI', 'KNTPQKNIYTPLWGVCVYIYTRVLCVSLFLWGESAHTQKKNTPQSVL', 'EKNTHISQKNIFSRVFL', 'DMCVYTL', 'EKSVSQRERGDTRARAQRGGENMWGDI', 'NISLLCAPLCAREKRDISL', 'KKNTPQSVSLSL', 'EKREKSV', 'SVWGEKKNISPLYTPHIYTQREKKRDTRVFSLL', 'ESVCV', 'NMCV', 'EKKNTLYTPREKSVLCV', 'RGERDTHILYIYTLL', 'KNTPQSAQKNI', 'NI', 'SVFL', 'KKKNILYTQREKRERGVLWGAPHTHTQRDISL', 'NMWGALCALLYMCV', 'RDTQNIFSL', 'SVSLLYTLYIL', 'KREKNTPL', 'NM', 'ENILYISL', 'RESVYIL', 'RGVFL', 'EKKNTPPLLCALYTLSHMWGVFL', 'SALCALCVL', 'NI', 'SVCVSPPLLWGGDIYTLYI', 'SAL', 'NILYMCAL', 'KSAPLFFFSLL', 'NTQKKSVLCVL', 'SVYTQNTLYTL', 'NTHI', 'SVLYTHTRGVCVFL', 'KNTPRVCVFLCVYTL', 'NILYIYMCAPLLYIFFSLFLYTLFLYILCALYTQNILCVCVYTLFFLYTL', 'REKSVYTQKNIFSL', 'RENIL', 'KKSAHISLYMCAPRDTLYTLYI', 'SAQKKRENIYTLCVL', 'KRESVCVSRGV', 'KNIFFLCVSL', 'RERGALFSHIFL', 'NILYIFL', 'EKSVSHTPL', 'NIFFFFSL', 'KNTL', 'DI', 'KNIYILYI', 'NIFLWGVFFFLYTLYIL', 'KSVCVFLCAPL', 'RGVFSLFL', 'NISLYTLSQNTPRALCALFL', 'RGVCVFFL', 'NMCVSL', 'NIFL', 'RGAHMCAPLFSLLYTLCVYTLWGVLYTQREREKRGALYIFL', 'ENTLSLYTL', 'NMCVSHTLYILCAQNTPLYTLCVYTLWGVFSLYIYTPLLCV', 'SVCVFLCVSLL', 'SVWGVFL', 'RDIFSLFL', 'RDTHTPLYISPLFSLFL', 'REKNTLYIYTQKNILYTPHIFFSHISLFFL', 'KNMWGGDIFL', 'NTLCALFFLWGALL', 'SVLCAQRESVWGVFFFLWGAHIYIYIFSLFFFSHTL', 'RGVFFFFSLYMCVYTLLWGDILWGALCAQNISHMCAQNILCVFFFFSQSALYIFFLCAQSVYTHIFFLYIL', 'SV', 'NIFSLLWGALLYMCVWGVL', 'NI', 'NIL', 'NISLLCVYTQKNMWGAPPPRDIFFSQSALYMWGVL', 'RENMCVYTHISLFSLFLCAHISHIFFLYILYMCVYMWGEKKKSVLYMCVCAHMCVLCV', 'RDTRGVLCV', 'NIFSHISQNTLLCVYM', 'DMCVCVLYTQKNTRV', 'NI', 'RESAQNTQKRESVSRENMCVYTQNTLYILCVL', 'NMWGVCVL', 'REKRGVSPLFFLYMCVSLYMCAL', 'NMWGERGV', 'KKRGALFFLCAQKNTLYTHTQNILWGENILCVCVL', 'NILCV', 'DIYTHIFSLCVCALWGV', 'SVYTHIFLYIL', 'SV', 'DM', 'EKSVLCARERERDTLLCVSHTLYTQSVFL', 'KKKRDTPQNI', 'KNISPLYTL', 'DTPQSVSLFSLLYTHISRVL', 'DI', 'SVCVLYTQSV', 'EKRENMWGVFSPHISPHISLFLYTLFL', 'DI', 'KKSALWGVSQKKKRDTLLYM', 'EKKRDTHIFSLSLSLSLSHIFFLCVL', 'NTLL', 'RDTQNTPL', 'ERESAL', 'NI', 'NTHTL', 'KKRGVFSHILCAPLYIL', 'NMCVLYI', 'SVFFFL', 'DMWGV', 'KNISQKKNMCV', 'EKRENISHISLCAQKKNISQSARVSLCVFLYTLYTQSVSQSALLYMCVCVSQNTPLYIYTLCVLYTL', 'RDISQRGAHIL', 'SVCVSL', 'DMCVLWGV', 'DI', 'SVCARGEKSVLCAQSVL', 'KKNMCVFL', 'DMCALLYTRVL', 'NIYTRVFFFSHISQNTLFFL', 'NTRVYTPQNMWGEKKKNTLSQKKNTHTL', 'SVLCAQNTLCAQREKSAL', 'ENTLLCAQKKRENMCVCVSPLL', 'RDTQNMCVSLLYISLYTLFFLYIFFSQSAQSALSRGAQKRGGVFLCVL', 'DIFSQRDMCV', 'REKNTL', 'KKRDMCVLCVL', 'ENMCVSLL', 'KNILCVSHTHISQNISL', 'DTHI', 'REKSVLYTLWGARDI', 'SVLCV', 'NI', 'NTLYIYMCALSHTPLYI', 'NTQKKSVL', 'EKKNTHM', 'DTHTPPPRV', 'DTPLLWGVCALLCVYIL', 'DTLCV', 'SVCARARVSHIYIL', 'NMCARAQRGV', 'SAQKKKKSVSHTQNTHILCALFL', 'DIYMWGENTRVL', 'KKRDIFFSHMCVSHILCVSL', 'ENTQNTLYTREKKNTQKNIYTRV', 'SVCALCAL', 'KKKKRENI', 'NTLLYTPLFFL', 'KSVL', 'DTHMCVCAQNTLYTL', 'RDTQKSVLCVL', 'NMCVLCV', 'NTQNTQKKRDI', 'SAHTLL', 'KRGGVWGV', 'KKNILCVL', 'NI', 'NILWGVL', 'EKSAQSVL', 'NIL', 'KKSVLYTHTLLCVCVFSPLFFFLCVLCALCALYIFFFSLYIFL', 'NI', 'NTHTPLCVFSHMCVSHMCVSL', 'KNTHIYTL', 'DTLFFFSQKSV', 'EKNISHI', 'RGDIYTQKRGALYIL', 'DMWGVWGVCVSHTLSRV', 'DTHI', 'SAHISLYTQRDIYTLLCVFFLCAL', 'NTQKNTHMCAL', 'DIFFL', 'DTHTHMWGVFL', 'SAPQSARVWGVWGV', 'SVLYIYTL', 'NM', 'DTQKKSALLCAPPHIL', 'DILCALCAQSVSHI', 'NTQKREREKSVWGGVFFLCVSRVCAPLWGVFLCAPLWGAHTRDIYILYTRAHTQNTL', 'NMWGV', 'DTLFFFLCAHIFFSLLYTPL', 'RESVFFFL', 'SVCAQSVLWGV', 'NTHISLCVLYTHTHTPHISQKKNTLLYI', 'RESVYTHTL', 'DTLFLCAQNTHISQSALLCVCVFFLWGALCAL', 'ENMCVYTQNIFFFL', 'KKRDMCALFSLWGV', 'KSAPQSVYTPHIYILCVLYM', 'DIYTPQNMCVYTL', 'REKRGVFSLCVLCALLYM', 'EKKSVFLYTRAPPL', 'DTHTHTRVLYMCVCALSHMWGDMWGALSLYILYIFSQNIFFSPL', 'NTHTPLYTPLL', 'EKRGVFSLCVL', 'RESVWGV', 'NTQNTLFFL', 'DIFSL', 'ESVYTLCV', 'RGAHTRGAHTLLCV', 'EKKRDISQREKSALWGVCVFLCVCVYISLYTL', 'SVWGV', 'RDMWGGVYTLL', 'NTQNM', 'DILYILYTQRDISLFLYTPQRGESVFFFSLCVWGVCV', 'RDMCALCV', 'KNIFLYTLLYTL', 'NIYMCVFLYTHTPHTL', 'NIFSQNTPLYILWGVCALFLWGDTHIYISQSAHISLYI', 'SV', 'SALWGVWGVYILCV', 'SALYISRV', 'SV', 'NTHMCAPLLCAPLYTLYIFFLYM', 'ERGVFL', 'REKRESALFFLWGV', 'ENIYTQSVSHMCV', 'SVLCAPLFL', 'NIYTLFLYTLYIFSPLLYMCVSHIFSHTLCVYTLSLCVFL', 'NTHTPQSVFLYTLSHIFSLLYTPLWGVCVFLYIFSLCVLYIFLYTLLCVYTLL', 'DTHIFFLYISLLYTL', 'NM', 'DMCVFFSLFFFFL', 'SAHTHIYIFSQSVWGDMWGVLYMCVFSHTHTPLFL', 'SVYTPLFFSLWGDI', 'NTQNILCALLYIYISHIFLCVYIFFSPHTQKKSAHIFFSLYILWGVFSLFL', 'SV', 'NILYTPL', 'KKRERDTRVCV', 'SVSLFL', 'NMWGVCVFFSPLFL', 'SVYTLFFL', 'EKREKSALCARALCVCAHTPLFFFLCVL', 'KNI', 'KKREKNMCVYISL', 'KKSVLCARV', 'SV', 'DMCVCALYILYTPLSLLYTRAQNIYI', 'NI', 'RDIYTLL', 'SALSLFLYI', 'NI', 'KSVYTQKSVYIFFL', 'SVWGESAQNMWGDIYTQNTL', 'SALYTQREREKSALCALLCVLCVSHISLSR']\n"
     ]
    }
   ],
   "source": [
    "prot_seq = translate(genome)"
   ]
  },
  {
   "cell_type": "markdown",
   "metadata": {},
   "source": [
    "Now you want to figure out the longest stretch of letters (amino acids) in `prot_seq` that doesn't contain any `*` characters. You can do this however you like, but as a hint, consider using the string.split() function, where you split on '*'s.  "
   ]
  },
  {
   "cell_type": "code",
   "execution_count": 134,
   "metadata": {},
   "outputs": [
    {
     "data": {
      "text/plain": [
       "140"
      ]
     },
     "execution_count": 134,
     "metadata": {},
     "output_type": "execute_result"
    }
   ],
   "source": [
    "l = prot_seq.split('*')\n",
    "\n",
    "# now do something with l...\n",
    "max([len(i) for i in prot_seq.split('*')])"
   ]
  },
  {
   "cell_type": "markdown",
   "metadata": {},
   "source": [
    "# Extra credit (2 points, maybe): What is the expected length of the longest open reading frame?\n",
    "\n",
    "Given that we have ~30,000 nucleotides of a given sequence composition, how long would we expect the longest reading frame to be if they were ordered randomly?\n",
    "\n",
    "Do this by randomly shuffling the genome sequence some number of times (say 100) and finding the longest orf in all its translations. Add those lengths up and divide by the number of times you shuffled.\n"
   ]
  },
  {
   "cell_type": "code",
   "execution_count": 163,
   "metadata": {},
   "outputs": [
    {
     "name": "stdout",
     "output_type": "stream",
     "text": [
      "shuffled numlist: [2, 4, 6, 1, 3, 5]\n",
      "<class 'list'>\n",
      "shuffled seq: GACATACGTCGT\n"
     ]
    }
   ],
   "source": [
    "# random is a very useful python library aka module\n",
    "import random\n",
    "\n",
    "numlist = [1,2,3,4,5,6]\n",
    "\n",
    "# we can call functions from within modules by using this syntax: module.function\n",
    "random.shuffle(numlist)\n",
    "\n",
    "print('shuffled numlist:', numlist)\n",
    "\n",
    "# random.shuffle doesn't work on immutable objects like strings, but we can turn a string into a list...\n",
    "seq = 'ACGTACGTACGT'\n",
    "\n",
    "seqlist = list(seq)\n",
    "\n",
    "print(type(seqlist))\n",
    "\n",
    "random.shuffle(seqlist)\n",
    "\n",
    "seq = ''.join(seqlist)\n",
    "\n",
    "print('shuffled seq:', seq)"
   ]
  },
  {
   "cell_type": "markdown",
   "metadata": {},
   "source": []
  },
  {
   "cell_type": "code",
   "execution_count": 194,
   "metadata": {},
   "outputs": [
    {
     "name": "stdout",
     "output_type": "stream",
     "text": [
      "87.4\n"
     ]
    }
   ],
   "source": [
    "num_shuffles = 100\n",
    "\n",
    "# also create a variable to hold the total length of all the longest orfs...\n",
    "total_length = list()\n",
    "\n",
    "# create genomeList\n",
    "genomeLst = list(genome)\n",
    "\n",
    "for repeat in range(num_shuffles):\n",
    "    # do stuff inside here...\n",
    "    shuffleLst = random.sample(genomeLst, len(genomeLst))\n",
    "    shuffleSeq = ''.join(shuffleLst)\n",
    "    shuffleTrans = translate(shuffleSeq)\n",
    "    shuffleSplit = shuffleTrans.split('*')\n",
    "    total_length.append(max([len(i) for i in shuffleSplit]))\n",
    "    \n",
    "    \n",
    "# mean_longest_orf = total_length/num_shuffles\n",
    "print(sum(total_length)/num_shuffles)"
   ]
  },
  {
   "cell_type": "markdown",
   "metadata": {},
   "source": [
    "# Potentially helpful examples"
   ]
  },
  {
   "cell_type": "markdown",
   "metadata": {},
   "source": [
    "## More details on defining functions\n",
    "Defining a function that takes in an argument (in this case, a number) and returns a new value that depends on the argument. "
   ]
  },
  {
   "cell_type": "code",
   "execution_count": null,
   "metadata": {},
   "outputs": [],
   "source": [
    "# here we define a function that doubles a number\n",
    "#\n",
    "# Here the function is called \"double\" and the argument that gets passed in is\n",
    "# called \"num\". We could pick a different name for \"num\", as long as we use\n",
    "# that other name inside the body of the function (the body of the function is\n",
    "# the indendted part that comes after the \"def ...:\" line)\n",
    "def double(num):\n",
    "    return 2*num\n",
    "\n",
    "print('2 doubled is', double(2))\n",
    "print('3 doubled is', double(3))\n",
    "\n",
    "a = 6\n",
    "print(a, 'doubled is', double(a))\n"
   ]
  },
  {
   "cell_type": "code",
   "execution_count": null,
   "metadata": {},
   "outputs": [],
   "source": [
    "# this gives exactly the same function: it doesn't matter what we call the\n",
    "# argument (num or i) as long as we are consistent.\n",
    "def double(i):\n",
    "    return 2*i"
   ]
  },
  {
   "cell_type": "markdown",
   "metadata": {},
   "source": [
    "## Hints for translating DNA to protein"
   ]
  },
  {
   "cell_type": "code",
   "execution_count": null,
   "metadata": {},
   "outputs": [],
   "source": [
    "# let's translate a short dna sequence by hand\n",
    "dna_seq = 'CCTCATATT'\n",
    "\n",
    "translation = '' # start with an empty string\n",
    "\n",
    "first_codon = dna_seq[0:3]\n",
    "first_amino_acid = genetic_code[first_codon]\n",
    "translation = translation + first_amino_acid # add the first aa to the end\n",
    "\n",
    "second_codon = dna_seq[3:6]\n",
    "second_amino_acid = genetic_code[second_codon]\n",
    "translation = translation + second_amino_acid # add the second aa to the end\n",
    "\n",
    "third_codon = dna_seq[6:9]\n",
    "third_amino_acid = genetic_code[third_codon]\n",
    "translation = translation + third_amino_acid # add the third aa to the end\n",
    "\n",
    "print(dna_seq, 'codes for', translation)"
   ]
  },
  {
   "cell_type": "code",
   "execution_count": null,
   "metadata": {},
   "outputs": [],
   "source": []
  },
  {
   "cell_type": "code",
   "execution_count": null,
   "metadata": {},
   "outputs": [],
   "source": []
  }
 ],
 "metadata": {
  "kernelspec": {
   "display_name": "Python 3.6.11",
   "language": "python",
   "name": "python3"
  },
  "language_info": {
   "codemirror_mode": {
    "name": "ipython",
    "version": 3
   },
   "file_extension": ".py",
   "mimetype": "text/x-python",
   "name": "python",
   "nbconvert_exporter": "python",
   "pygments_lexer": "ipython3",
   "version": "3.12.0"
  },
  "vscode": {
   "interpreter": {
    "hash": "0b51294b1809baeb097f2e154baad2748788b6b1fb2916e848b3b8cf1b5cfa9e"
   }
  }
 },
 "nbformat": 4,
 "nbformat_minor": 2
}
