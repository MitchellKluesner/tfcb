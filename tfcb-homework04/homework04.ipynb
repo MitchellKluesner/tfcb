{
 "cells": [
  {
   "cell_type": "markdown",
   "metadata": {},
   "source": [
    "# Homework 4: Practical analysis with BioPython"
   ]
  },
  {
   "cell_type": "markdown",
   "metadata": {},
   "source": [
    "For the homework, you are going to extend the code from the analysis of our FASTQ file in lectures 8 and 9.\n",
    "Recall that the FASTQ file contains reads from a real sequencing run of influenza virus HA and NA genes.\n",
    "\n",
    "The _actual sequences_ are as follows:\n",
    "\n",
    "    5'-[end of HA]-AGGCGGCCGC-[16 X N barcode]-3'\n",
    "    \n",
    "or \n",
    "\n",
    "    5'-[end of NA]-AGGCGGCCGC-[16 X N barcode]-3'\n",
    "    \n",
    "The end of NA is:\n",
    "\n",
    "    ...CACGATAGATAAATAATAGTGCACCAT\n",
    "    \n",
    "The end of HA is:\n",
    "\n",
    "    ...CCGGATTTGCATATAATGATGCACCAT\n",
    "    \n",
    "The _sequencing reads_ (located in the FASTQ file) are from the reverse end of these actual sequences, so the first thing in the sequencing reads is the reverse complement of the barcode followed by the reverse complement of the constant sequence, etc.\n",
    "The reads can originate from **either** HA or NA, and that will be distinguished by the most 3' end of the read.\n",
    "But in our example exercise in class, we did not distinguish among reads matching to HA and NA, as we didn't even look far enough into the read to tell the identity.\n",
    "\n",
    "For the homework, your goal is to write code that extends the material from lectures 8 and 9 to also distinguish between HA and NA.\n",
    "This homework can be completed almost entirely by re-using code from lecture 9. You will need to set up your analysis to do the following:\n",
    " 1. Get the reverse complement of each read.\n",
    " 2. Determine if it matches the expected pattern for HA and NA, and if so which one.\n",
    " 3. If it matches, extract the barcode and add it to a dictionary to keep track of counts.\n",
    " 4. Determine the number and distribution of barcodes for HA and NA separately.\n",
    "\n",
    "Please include code to address each of the following questions. Please include code comments to explain what your code is attempting to accomplish. Don't forget to include references to the sources you used to obtain your answer, including your classmates (if you are working in groups).  "
   ]
  },
  {
   "cell_type": "markdown",
   "metadata": {},
   "source": [
    "1. How many reads map to HA, and how many reads map to NA?"
   ]
  },
  {
   "cell_type": "code",
   "execution_count": 55,
   "metadata": {},
   "outputs": [
    {
     "name": "stdout",
     "output_type": "stream",
     "text": [
      "4122 reads map to NA.\n",
      "5409 reads map to HA.\n",
      "ATGGTGCATCATTATATGCAAATCCGG\n"
     ]
    }
   ],
   "source": [
    "### Import packages\n",
    "import os\n",
    "import pandas as pd\n",
    "import numpy as np\n",
    "import re\n",
    "\n",
    "### Define Parameters\n",
    "NA_end = 'CACGATAGATAAATAATAGTGCACCAT'\n",
    "HA_end = 'CCGGATTTGCATATAATGATGCACCAT'\n",
    "spacer = 'AGGCGGCCGC'\n",
    "barcode_length = 16\n",
    "\n",
    "### Define functions\n",
    "# Iterate over all key-value pairs in dictionary \n",
    "# Adapted from https://www.studytonight.com/ 2023-10-19\n",
    "def reverseComplement(str):    \n",
    "    char_to_replace = {'A': 't', 'C': 'g', 'G': 'c', 'T':'a'}\n",
    "    for key, value in char_to_replace.items():\n",
    "        # Replace key character with value character in string\n",
    "        str = str.replace(key, value)\n",
    "    return(str[::-1].upper())\n",
    "\n",
    "def read_fastq(path):\n",
    "    ### Read in .fastq\n",
    "    fastq_tbl = pd.read_table(path, header=None)\n",
    "    \n",
    "    ### Used chat GPT To troubleshoot this part using the prompt:\n",
    "    # \"How do I use pd.assign() to add a new column to a dataframe that contains the vector c(\"line\", \"new\", \"here\", \"to\") repeating over the length of the dataframe\"\n",
    "    # https://pandas.pydata.org/Pandas_Cheat_Sheet.pdf\n",
    "    fastq_line_headers = np.array(['name', 'seq', 'empty', 'q'])\n",
    "\n",
    "    # Create index for each read\n",
    "    n_reads = len(fastq_tbl)\n",
    "    reads = np.array(range(0,int(n_reads/4), 1))\n",
    "    reads.repeat(4)\n",
    "\n",
    "    # Reformat .fastq as .table\n",
    "    fastq_tbl['key'] = np.tile(fastq_line_headers, (len(fastq_tbl) // len(fastq_line_headers)) + 1)[:len(fastq_tbl)]\n",
    "    fastq_tbl['read_index'] = reads.repeat(4)\n",
    "    fastq_tbl = fastq_tbl.rename(columns={0:\"value\", 1:\"key\"})\n",
    "    fastq_tbl = fastq_tbl.pivot(index='read_index', columns='key', values='value')\n",
    "\n",
    "    # return fastq_table\n",
    "    return(fastq_tbl)\n",
    "\n",
    "\n",
    "def contains_seq(subject, query):\n",
    "    for i in range(0,int(len(query)), 1):\n",
    "        return(subject in query)\n",
    "\n",
    "\n",
    "# Convert ends to reverse complement\n",
    "NA_end_revcom = reverseComplement(NA_end)\n",
    "HA_end_revcom = reverseComplement(HA_end)\n",
    "\n",
    "# Read fastq file\n",
    "reads_tbl = read_fastq(path = \"../tfcb-homework04/barcodes_R1.fastq\")\n",
    "\n",
    "# Search for NA and HA sequences in fastq lines\n",
    "reads_tbl['contains_NA'] = [NA_end_revcom in i for i in reads_tbl['seq']]\n",
    "reads_tbl['contains_HA'] = [HA_end_revcom in i for i in reads_tbl['seq']]\n",
    "\n",
    "# Help from\n",
    "# https://pandas.pydata.org/docs/reference/api/pandas.Series.to_dict.html\n",
    "NA_dict = pd.Series.to_dict(reads_tbl.loc[reads_tbl.contains_NA].seq)\n",
    "HA_dict = pd.Series.to_dict(reads_tbl.loc[reads_tbl.contains_HA].seq)\n",
    "\n",
    "n_NA = len(NA_dict)\n",
    "n_HA = len(HA_dict)\n",
    "\n",
    "print(str(n_NA) + ' reads map to NA.')\n",
    "print(str(n_HA) + ' reads map to HA.')"
   ]
  },
  {
   "cell_type": "markdown",
   "metadata": {},
   "source": [
    "2. What is the HA barcode with the most counts (and how many counts)? Also answer the same question for NA.\n",
    "\n",
    "    _Hint: you will need to find the key associated with the maximum value in your dictionary. There are many ways to do this._"
   ]
  },
  {
   "cell_type": "code",
   "execution_count": 108,
   "metadata": {},
   "outputs": [
    {
     "name": "stdout",
     "output_type": "stream",
     "text": [
      "NA_barcodes\n",
      "AAAAGGGAGTTCTGCTC    1271\n",
      "dtype: int64\n",
      "\n",
      "HA_barcodes\n",
      "TCATTGCAAGGAGCCGT    1464\n",
      "dtype: int64\n"
     ]
    }
   ],
   "source": [
    "def extract_barcode(df, col, new_col_name, pattern_spacer, barcode_length):\n",
    "    pattern = re.compile('(?P<name>.'+ pattern_spacer + '[ACGT]{' + str(insert) + '}'+ \"\" +')')\n",
    "    colList = df[col].tolist()\n",
    "    # Help with this line was from ChatGPT with the erroring code below and the error.\n",
    "    # ChatGPT identified that I needed to initialize the list as a blank list\n",
    "    new_col = [None] * len(colList)\n",
    "\n",
    "    for i in range(len(colList)):\n",
    "        match = re.search(pattern, colList[i])\n",
    "        if match == None:\n",
    "            new_col[i] = None\n",
    "        else:\n",
    "            new_col[i] = match.group('name').replace(pattern_spacer, \"\")\n",
    "    \n",
    "    df[new_col_name] = new_col\n",
    "\n",
    "    return(df)\n",
    "\n",
    "# Run for NA spacer\n",
    "extract_barcode(df = reads_tbl,\n",
    "                col = \"seq\",\n",
    "                new_col_name = \"NA_barcodes\",\n",
    "                pattern_spacer = reverseComplement(spacer) + reverseComplement(NA_end),\n",
    "                barcode_length = 16\n",
    "                )\n",
    "\n",
    "# Run for HA spacer\n",
    "extract_barcode(df = reads_tbl,\n",
    "                col = \"seq\",\n",
    "                new_col_name = \"HA_barcodes\",\n",
    "                pattern_spacer = reverseComplement(spacer) + reverseComplement(HA_end),\n",
    "                barcode_length = 16\n",
    "                )\n",
    "\n",
    "# Assign barcodes\n",
    "max_NA_barcode = reads_tbl.groupby('NA_barcodes').size().sort_values(ascending=False).head(1)\n",
    "max_HA_barcode = reads_tbl.groupby('HA_barcodes').size().sort_values(ascending=False).head(1)\n",
    "\n",
    "# Print barcodes\n",
    "print(max_NA_barcode)\n",
    "print(\"\")\n",
    "print(max_HA_barcode)\n"
   ]
  }
 ],
 "metadata": {
  "kernelspec": {
   "display_name": "Python 3.9.12 ('base')",
   "language": "python",
   "name": "python3"
  },
  "language_info": {
   "codemirror_mode": {
    "name": "ipython",
    "version": 3
   },
   "file_extension": ".py",
   "mimetype": "text/x-python",
   "name": "python",
   "nbconvert_exporter": "python",
   "pygments_lexer": "ipython3",
   "version": "3.12.0"
  },
  "toc": {
   "nav_menu": {},
   "number_sections": false,
   "sideBar": true,
   "skip_h1_title": false,
   "toc_cell": false,
   "toc_position": {
    "height": "623.8px",
    "left": "0px",
    "right": "829.6px",
    "top": "33.2px",
    "width": "322.4px"
   },
   "toc_section_display": "block",
   "toc_window_display": true
  },
  "vscode": {
   "interpreter": {
    "hash": "d4d1e4263499bec80672ea0156c357c1ee493ec2b1c70f0acce89fc37c4a6abe"
   }
  }
 },
 "nbformat": 4,
 "nbformat_minor": 2
}
